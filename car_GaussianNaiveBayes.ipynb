{
 "cells": [
  {
   "cell_type": "code",
   "execution_count": 1,
   "id": "6af3caa0-13b3-4461-b445-ac0fb21f9834",
   "metadata": {},
   "outputs": [],
   "source": [
    "import numpy as np\n",
    "import pandas as pd\n",
    "\n",
    "from sklearn.datasets import load_iris\n",
    "from sklearn.model_selection import train_test_split\n",
    "from sklearn.naive_bayes import GaussianNB"
   ]
  },
  {
   "cell_type": "code",
   "execution_count": 2,
   "id": "6beb7cc2-22f9-472a-85e7-a8433ace978e",
   "metadata": {},
   "outputs": [],
   "source": [
    "df = pd.read_csv('car_data.csv')"
   ]
  },
  {
   "cell_type": "code",
   "execution_count": 3,
   "id": "0cfd9e25-a822-472d-9b09-34242f5f6ecd",
   "metadata": {},
   "outputs": [],
   "source": [
    "X, y = load_iris(return_X_y=True)"
   ]
  },
  {
   "cell_type": "code",
   "execution_count": 4,
   "id": "dfac8ef7-94ff-425f-a41a-87f955440ac8",
   "metadata": {},
   "outputs": [],
   "source": [
    "X = df[['buying', 'maint', 'doors', 'persons', 'lug_boot', 'safety']]"
   ]
  },
  {
   "cell_type": "code",
   "execution_count": 5,
   "id": "514d6d95-b412-4ad9-9eb5-c7cd31c7c537",
   "metadata": {},
   "outputs": [],
   "source": [
    "y= df['class_value']"
   ]
  },
  {
   "cell_type": "code",
   "execution_count": 6,
   "id": "6076cf78-3954-43f0-aad6-342d1c88d701",
   "metadata": {},
   "outputs": [],
   "source": [
    "X_train, X_test, y_train, y_test = train_test_split(X, y, test_size=0.1, random_state=0)"
   ]
  },
  {
   "cell_type": "code",
   "execution_count": 7,
   "id": "d9c023cc-8c2d-4c6f-ae7c-c475e32492bd",
   "metadata": {},
   "outputs": [],
   "source": [
    "Car = GaussianNB()"
   ]
  },
  {
   "cell_type": "code",
   "execution_count": 8,
   "id": "f4baceda-285c-4545-81b6-062ec4db4daf",
   "metadata": {},
   "outputs": [],
   "source": [
    "y_pred = Car.fit(X_train, y_train).predict(X_test)"
   ]
  },
  {
   "cell_type": "code",
   "execution_count": 9,
   "id": "3263076f-ff01-44d9-8101-4a6531c8f16f",
   "metadata": {},
   "outputs": [
    {
     "name": "stdout",
     "output_type": "stream",
     "text": [
      "Toplam 173 noktanın içinden yanlış sınıflandırılan nokta sayısı: 55\n"
     ]
    }
   ],
   "source": [
    "print(f\"Toplam {X_test.shape[0]} noktanın içinden yanlış sınıflandırılan nokta sayısı: {(y_test != y_pred).sum()}\") "
   ]
  },
  {
   "cell_type": "code",
   "execution_count": 10,
   "id": "04d94ca8-aa56-419f-9faa-37ae396cd5fc",
   "metadata": {},
   "outputs": [
    {
     "name": "stdout",
     "output_type": "stream",
     "text": [
      "Precision(Hassasiyet): 0.7181566163177291\n",
      "Recall (Duyarlılık): 0.6820809248554913\n",
      "F1 Skoru: 0.6832498146229553\n"
     ]
    }
   ],
   "source": [
    "from sklearn.metrics import precision_score, recall_score, f1_score\n",
    "\n",
    "precision = precision_score(y_test, y_pred, average='weighted')\n",
    "recall = recall_score(y_test, y_pred, average='weighted')\n",
    "f1 = f1_score(y_test, y_pred, average='weighted')\n",
    "\n",
    "print(\"Precision(Hassasiyet):\", precision)\n",
    "print(\"Recall (Duyarlılık):\", recall)\n",
    "print(\"F1 Skoru:\", f1)\n"
   ]
  },
  {
   "cell_type": "code",
   "execution_count": null,
   "id": "f868ba98-099f-479e-9348-58f4751ba1aa",
   "metadata": {},
   "outputs": [],
   "source": []
  },
  {
   "cell_type": "code",
   "execution_count": null,
   "id": "2cf2d705-e279-4da3-9cf4-7f6930043da1",
   "metadata": {},
   "outputs": [],
   "source": []
  }
 ],
 "metadata": {
  "kernelspec": {
   "display_name": "Python 3 (ipykernel)",
   "language": "python",
   "name": "python3"
  },
  "language_info": {
   "codemirror_mode": {
    "name": "ipython",
    "version": 3
   },
   "file_extension": ".py",
   "mimetype": "text/x-python",
   "name": "python",
   "nbconvert_exporter": "python",
   "pygments_lexer": "ipython3",
   "version": "3.10.11"
  }
 },
 "nbformat": 4,
 "nbformat_minor": 5
}
